{
 "cells": [
  {
   "cell_type": "code",
   "execution_count": 26,
   "metadata": {},
   "outputs": [],
   "source": [
    "import numpy as np\n",
    "import pandas as pd\n",
    "from sklearn.datasets import make_classification"
   ]
  },
  {
   "cell_type": "code",
   "execution_count": 7,
   "metadata": {},
   "outputs": [
    {
     "name": "stdout",
     "output_type": "stream",
     "text": [
      "-- Epoch 1\n",
      "Norm: 0.76, NNZs: 15, Bias: -0.314605, T: 37500, Avg. loss: 0.455801\n",
      "Total training time: 0.02 seconds.\n",
      "-- Epoch 2\n",
      "Norm: 0.92, NNZs: 15, Bias: -0.469578, T: 75000, Avg. loss: 0.394737\n",
      "Total training time: 0.04 seconds.\n",
      "-- Epoch 3\n",
      "Norm: 0.98, NNZs: 15, Bias: -0.580452, T: 112500, Avg. loss: 0.385561\n",
      "Total training time: 0.06 seconds.\n",
      "-- Epoch 4\n",
      "Norm: 1.02, NNZs: 15, Bias: -0.660824, T: 150000, Avg. loss: 0.382161\n",
      "Total training time: 0.09 seconds.\n",
      "-- Epoch 5\n",
      "Norm: 1.04, NNZs: 15, Bias: -0.717218, T: 187500, Avg. loss: 0.380474\n",
      "Total training time: 0.11 seconds.\n",
      "-- Epoch 6\n",
      "Norm: 1.06, NNZs: 15, Bias: -0.761816, T: 225000, Avg. loss: 0.379481\n",
      "Total training time: 0.13 seconds.\n",
      "-- Epoch 7\n",
      "Norm: 1.06, NNZs: 15, Bias: -0.793932, T: 262500, Avg. loss: 0.379096\n",
      "Total training time: 0.16 seconds.\n",
      "-- Epoch 8\n",
      "Norm: 1.07, NNZs: 15, Bias: -0.820446, T: 300000, Avg. loss: 0.378826\n",
      "Total training time: 0.19 seconds.\n",
      "-- Epoch 9\n",
      "Norm: 1.07, NNZs: 15, Bias: -0.840093, T: 337500, Avg. loss: 0.378604\n",
      "Total training time: 0.22 seconds.\n",
      "-- Epoch 10\n",
      "Norm: 1.08, NNZs: 15, Bias: -0.850329, T: 375000, Avg. loss: 0.378615\n",
      "Total training time: 0.24 seconds.\n",
      "Convergence after 10 epochs took 0.24 seconds\n"
     ]
    }
   ],
   "source": [
    "X, y = make_classification(n_samples=50000, n_features=15, n_informative=10, n_redundant=5,\n",
    "                           n_classes=2, weights=[0.7], class_sep=0.7, random_state=15)\n",
    "X.shape, y.shape\n",
    "from sklearn.model_selection import train_test_split\n",
    "X_train, X_test, y_train, y_test = train_test_split(X, y, test_size=0.25, random_state=15)\n",
    "X_train.shape, y_train.shape, X_test.shape, y_test.shape\n",
    "from sklearn import linear_model\n",
    "clf = linear_model.SGDClassifier(eta0=0.0001, alpha=0.0001, loss='log', random_state=15, penalty='l2', tol=1e-3, verbose=2, learning_rate='constant')\n",
    "clf\n",
    "clf.fit(X=X_train, y=y_train)\n",
    "clf.coef_, clf.coef_.shape, clf.intercept_\n",
    "p=clf.coef_"
   ]
  },
  {
   "cell_type": "code",
   "execution_count": 3,
   "metadata": {},
   "outputs": [
    {
     "data": {
      "text/plain": [
       "((50000, 15), (50000,))"
      ]
     },
     "execution_count": 3,
     "metadata": {},
     "output_type": "execute_result"
    }
   ],
   "source": [
    "X.shape, y.shape"
   ]
  },
  {
   "cell_type": "code",
   "execution_count": 25,
   "metadata": {},
   "outputs": [
    {
     "name": "stderr",
     "output_type": "stream",
     "text": [
      "\n",
      "\n",
      "\n",
      "\n",
      "  0%|                                                                                           | 0/10 [00:00<?, ?it/s]\n",
      "\n",
      "\n",
      "\n",
      " 10%|████████▎                                                                          | 1/10 [00:01<00:15,  1.68s/it]\n",
      "\n",
      "\n",
      "\n",
      " 20%|████████████████▌                                                                  | 2/10 [00:03<00:14,  1.77s/it]\n",
      "\n",
      "\n",
      "\n",
      " 30%|████████████████████████▉                                                          | 3/10 [00:05<00:12,  1.80s/it]\n",
      "\n",
      "\n",
      "\n",
      " 40%|█████████████████████████████████▏                                                 | 4/10 [00:07<00:10,  1.79s/it]\n",
      "\n",
      "\n",
      "\n",
      " 50%|█████████████████████████████████████████▌                                         | 5/10 [00:09<00:08,  1.78s/it]\n",
      "\n",
      "\n",
      "\n",
      " 60%|█████████████████████████████████████████████████▊                                 | 6/10 [00:10<00:07,  1.78s/it]\n",
      "\n",
      "\n",
      "\n",
      " 70%|██████████████████████████████████████████████████████████                         | 7/10 [00:12<00:05,  1.81s/it]\n",
      "\n",
      "\n",
      "\n",
      " 80%|██████████████████████████████████████████████████████████████████▍                | 8/10 [00:14<00:03,  1.77s/it]\n",
      "\n",
      "\n",
      "\n",
      " 90%|██████████████████████████████████████████████████████████████████████████▋        | 9/10 [00:16<00:01,  1.80s/it]\n",
      "\n",
      "\n",
      "\n",
      "100%|██████████████████████████████████████████████████████████████████████████████████| 10/10 [00:17<00:00,  1.77s/it]\n",
      "\n",
      "\n",
      "\n"
     ]
    },
    {
     "name": "stdout",
     "output_type": "stream",
     "text": [
      "[14576, 14570, 14570, 14570, 14570, 14570, 14570, 14570, 14570, 14570]\n",
      "[-2.76162888 -1.23654345  3.61602754  4.34830869  0.9950873   3.28582379\n",
      " -5.55566377 -3.70717971  0.90567163 -0.85363438 -0.2636102   1.29092346\n",
      " -0.00664328  3.03536501  5.48148173]\n"
     ]
    }
   ],
   "source": [
    "from math import exp\n",
    "import numpy as np\n",
    "from tqdm import tqdm\n",
    "import math \n",
    "\n",
    "def Sum_Error(x_train):\n",
    "    Sum_Error=0\n",
    "    for i in range(len(X_train)):\n",
    "        yhat=predict1(train[i], coef,intcpt)\n",
    "        error=(y_train[i] - yhat)\n",
    "        Sum_error=Sum_error +(error*error)\n",
    "\n",
    "# Make a prediction with coefficients\n",
    "def predict(row, coefficients,intcpt):\n",
    "    yhat = intcpt\n",
    "    for i in range(len(row)):\n",
    "        yhat += coefficients[i] * row[i]\n",
    "    if yhat < 0:\n",
    "        value=1 - 1 / (1 + math.exp(yhat))\n",
    "    else:\n",
    "        value=1 / (1 + math.exp(-yhat))  \n",
    "    if value>=0.5:\n",
    "        return 1\n",
    "    else:\n",
    "        return 0\n",
    "    \n",
    "\n",
    "def coefficients_sgd(x_train,y_train):\n",
    "    #coef = [0.0 for i in range(len(x_train[0]))]\n",
    "    #intcpt=0\n",
    "    coef = np.random.normal(0, 0.1, size=(len(x_train[0])))\n",
    "    intcpt=np.random.normal(0,0.1)\n",
    "    alpha=\n",
    "    lamda=1\n",
    "    N=15\n",
    "    n_epoch=10\n",
    "    ERROR=[]\n",
    "    for epoch in tqdm(range(n_epoch)):\n",
    "        sum_err=0\n",
    "        for i in range(len(x_train)):\n",
    "            #print(coef)\n",
    "            yhat = predict(x_train[i], coef,intcpt)\n",
    "            error = y_train[i] - yhat\n",
    "            sum_err += error**2\n",
    "            for j in range(len(coef)):\n",
    "                coef[j]= ((1-(alpha*lamda/N))*coef[j])+(alpha*x_train[i][j]*error)\n",
    "                intcpt=((1-(alpha*lamda/N))*intcpt+alpha*error)\n",
    "            #print(coef)\n",
    "        if epoch==10:\n",
    "            print(epoch,\":\",sum_err)\n",
    "        ERROR.append(sum_err)\n",
    "        #print(epoch,\":\",sum_err)\n",
    "    print(ERROR)    \n",
    "    return coef\n",
    "#𝑤(𝑡+1)←(1−αλ𝑁)𝑤(𝑡)+α𝑥𝑛(𝑦𝑛−σ((𝑤(𝑡))𝑇𝑥𝑛+𝑏𝑡)) \n",
    "# Calculate coefficients\n",
    "coef = coefficients_sgd(X_train,y_train)\n",
    "q=coef\n",
    "print(coef)\n"
   ]
  },
  {
   "cell_type": "code",
   "execution_count": 10,
   "metadata": {},
   "outputs": [
    {
     "name": "stdout",
     "output_type": "stream",
     "text": [
      "[[-0.42328902  0.18380407 -0.14437354  0.34064016 -0.21316099  0.56702655\n",
      "  -0.44910569 -0.09094413  0.21219292  0.17750247  0.19931732 -0.00506998\n",
      "  -0.07781235  0.33343476  0.0320374 ]]\n",
      "[-0.37713201  0.24310718 -0.1811834   0.25635079 -0.22765678  0.59756588\n",
      " -0.47728214 -0.11907966  0.22006377  0.20133818  0.16969587  0.02172426\n",
      " -0.0872232   0.34178878  0.07634709]\n",
      "[[0.04615701 0.0593031  0.03680985 0.08428938 0.0144958  0.03053933\n",
      "  0.02817646 0.02813553 0.00787084 0.02383571 0.02962144 0.02679424\n",
      "  0.00941085 0.00835401 0.0443097 ]]\n"
     ]
    }
   ],
   "source": [
    "print(p)\n",
    "print(q)\n",
    "print(abs(p-q))"
   ]
  },
  {
   "cell_type": "code",
   "execution_count": null,
   "metadata": {},
   "outputs": [],
   "source": []
  },
  {
   "cell_type": "code",
   "execution_count": null,
   "metadata": {},
   "outputs": [],
   "source": [
    "[[ 0.03091489  0.0107503  -0.00658066 -0.06857072 -0.07223361  0.00028814\n",
    "  -0.06621579  0.00028148 -0.03359465 -0.01380299  0.0276713  -0.06750914\n",
    "   0.00292619  0.00129768 -0.00293013]]\n",
    "[0.021522589119558774, -0.009994012137875466, -0.0102325686534233, -0.03793943960162779, -0.07169412910456499, \n",
    " 0.018774016262459572, -0.06271380202644156, 0.011113971257080267, -0.039399364065525896, -0.0007459892504481513, \n",
    " 0.04106727919021057, -0.08057726309489652, -0.0015773141014536435, -0.01956396123993748, -0.01163954762860448]"
   ]
  },
  {
   "cell_type": "code",
   "execution_count": null,
   "metadata": {},
   "outputs": [],
   "source": [
    "import numpy as np\n",
    "array = np.random.normal(0.0, 1.0, len(X_train[0])) \n",
    "print(array)"
   ]
  },
  {
   "cell_type": "code",
   "execution_count": null,
   "metadata": {},
   "outputs": [],
   "source": []
  }
 ],
 "metadata": {
  "kernelspec": {
   "display_name": "Python 3",
   "language": "python",
   "name": "python3"
  },
  "language_info": {
   "codemirror_mode": {
    "name": "ipython",
    "version": 3
   },
   "file_extension": ".py",
   "mimetype": "text/x-python",
   "name": "python",
   "nbconvert_exporter": "python",
   "pygments_lexer": "ipython3",
   "version": "3.7.1"
  }
 },
 "nbformat": 4,
 "nbformat_minor": 2
}
